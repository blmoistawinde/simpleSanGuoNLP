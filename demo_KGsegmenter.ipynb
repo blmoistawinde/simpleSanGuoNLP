{
 "cells": [
  {
   "cell_type": "code",
   "execution_count": 1,
   "metadata": {
    "collapsed": true
   },
   "outputs": [],
   "source": [
    "# coding=utf-8\n",
    "import json\n",
    "import os\n",
    "import re\n",
    "import numpy as np\n",
    "import pandas as pd\n",
    "from collections import defaultdict\n",
    "import jieba\n",
    "import jieba.posseg as pseg"
   ]
  },
  {
   "cell_type": "markdown",
   "metadata": {},
   "source": [
    "引入知识库，资料从网络上收集并已经加以整理。"
   ]
  },
  {
   "cell_type": "code",
   "execution_count": 2,
   "metadata": {
    "collapsed": true
   },
   "outputs": [],
   "source": [
    "name_data = pd.read_excel(\"name_data.xlsx\",index_col=0)\n",
    "name_data = name_data.set_index(\"姓名\")\n",
    "name_data = name_data.fillna(\"\")"
   ]
  },
  {
   "cell_type": "code",
   "execution_count": 3,
   "metadata": {},
   "outputs": [
    {
     "data": {
      "text/html": [
       "<div>\n",
       "<style>\n",
       "    .dataframe thead tr:only-child th {\n",
       "        text-align: right;\n",
       "    }\n",
       "\n",
       "    .dataframe thead th {\n",
       "        text-align: left;\n",
       "    }\n",
       "\n",
       "    .dataframe tbody tr th {\n",
       "        vertical-align: top;\n",
       "    }\n",
       "</style>\n",
       "<table border=\"1\" class=\"dataframe\">\n",
       "  <thead>\n",
       "    <tr style=\"text-align: right;\">\n",
       "      <th></th>\n",
       "      <th>姓</th>\n",
       "      <th>名</th>\n",
       "      <th>字</th>\n",
       "    </tr>\n",
       "    <tr>\n",
       "      <th>姓名</th>\n",
       "      <th></th>\n",
       "      <th></th>\n",
       "      <th></th>\n",
       "    </tr>\n",
       "  </thead>\n",
       "  <tbody>\n",
       "    <tr>\n",
       "      <th>丁仪</th>\n",
       "      <td>丁</td>\n",
       "      <td>仪</td>\n",
       "      <td>正礼</td>\n",
       "    </tr>\n",
       "    <tr>\n",
       "      <th>丁冲</th>\n",
       "      <td>丁</td>\n",
       "      <td>冲</td>\n",
       "      <td>无</td>\n",
       "    </tr>\n",
       "    <tr>\n",
       "      <th>丁原</th>\n",
       "      <td>丁</td>\n",
       "      <td>原</td>\n",
       "      <td>建阳</td>\n",
       "    </tr>\n",
       "    <tr>\n",
       "      <th>丁厷</th>\n",
       "      <td>丁</td>\n",
       "      <td>厷</td>\n",
       "      <td>无</td>\n",
       "    </tr>\n",
       "    <tr>\n",
       "      <th>丁君干</th>\n",
       "      <td>丁</td>\n",
       "      <td>君干</td>\n",
       "      <td>无</td>\n",
       "    </tr>\n",
       "  </tbody>\n",
       "</table>\n",
       "</div>"
      ],
      "text/plain": [
       "     姓   名   字\n",
       "姓名            \n",
       "丁仪   丁   仪  正礼\n",
       "丁冲   丁   冲   无\n",
       "丁原   丁   原  建阳\n",
       "丁厷   丁   厷   无\n",
       "丁君干  丁  君干   无"
      ]
     },
     "execution_count": 3,
     "metadata": {},
     "output_type": "execute_result"
    }
   ],
   "source": [
    "name_data.head()"
   ]
  },
  {
   "cell_type": "markdown",
   "metadata": {},
   "source": [
    "下面用过程式的方法演示字典树（实体匹配型）的构造过程。相比我实际应用中的有所简化，更详细的代码和数据可以在我的github上找到："
   ]
  },
  {
   "cell_type": "code",
   "execution_count": 4,
   "metadata": {
    "collapsed": true
   },
   "outputs": [],
   "source": [
    "trie_root = {}\n",
    "def build_trie(new_word,entity,trie_root):\n",
    "    trie_node = trie_root\n",
    "    for ch in new_word:\n",
    "        if not ch in trie_node:\n",
    "            trie_node[ch] = {}\n",
    "        trie_node = trie_node[ch]\n",
    "    if not 'leaf' in trie_node:\n",
    "        trie_node['leaf'] = set([entity])    #同一个代称有时会对应多个实体，所以这里的叶结点是集合类型\n",
    "    else:\n",
    "        trie_node['leaf'].add(entity)"
   ]
  },
  {
   "cell_type": "code",
   "execution_count": 5,
   "metadata": {
    "collapsed": true
   },
   "outputs": [],
   "source": [
    "build_trie(\"玄德\",\"刘备\",trie_root)\n",
    "build_trie(\"玄德公\",\"刘备\",trie_root)\n",
    "build_trie(\"刘皇叔\",\"刘备\",trie_root)\n",
    "build_trie(\"刘备\",\"刘备\",trie_root)"
   ]
  },
  {
   "cell_type": "code",
   "execution_count": 6,
   "metadata": {},
   "outputs": [
    {
     "name": "stdout",
     "output_type": "stream",
     "text": [
      "{'玄': {'德': {'leaf': {'刘备'}, '公': {'leaf': {'刘备'}}}}, '刘': {'皇': {'叔': {'leaf': {'刘备'}}}, '备': {'leaf': {'刘备'}}}}\n"
     ]
    }
   ],
   "source": [
    "print(trie_root)"
   ]
  },
  {
   "cell_type": "markdown",
   "metadata": {},
   "source": [
    "在字典树中查找代称对应的实体。"
   ]
  },
  {
   "cell_type": "code",
   "execution_count": 7,
   "metadata": {
    "collapsed": true
   },
   "outputs": [],
   "source": [
    "def find_trie(word,trie_root):\n",
    "    trie_node = trie_root\n",
    "    for ch in word:\n",
    "        if not ch in trie_node:\n",
    "            return set()\n",
    "        trie_node = trie_node[ch]\n",
    "    if \"leaf\" in trie_node:\n",
    "        return trie_node['leaf']\n",
    "    else:\n",
    "        return set()"
   ]
  },
  {
   "cell_type": "code",
   "execution_count": 8,
   "metadata": {},
   "outputs": [
    {
     "name": "stdout",
     "output_type": "stream",
     "text": [
      "{'刘备'}\n",
      "set()\n"
     ]
    }
   ],
   "source": [
    "print(find_trie(\"刘备\",trie_root))\n",
    "print(find_trie(\"刘备啊\",trie_root))"
   ]
  },
  {
   "cell_type": "markdown",
   "metadata": {},
   "source": [
    "但这里我需要的其实是把字典树与顺序扫描结合在一起，一边扫描一边识别实体。这样其实我是不能准确得到词语的右边界的。于是我需要另一个函数来完成这个任务，逐字符扫描中深入字典树【每一步暂存当前结点】，直到发现实体（集）或者无法匹配再跳出。"
   ]
  },
  {
   "cell_type": "code",
   "execution_count": 9,
   "metadata": {
    "collapsed": true
   },
   "outputs": [],
   "source": [
    "def dig_trie(sent,l,trie_root):                                #返回实体右边界r,实体范围\n",
    "    trie_node = trie_root\n",
    "    for i in range(l,len(sent)):\n",
    "        if sent[i] in trie_node:\n",
    "            trie_node = trie_node[sent[i]]\n",
    "        else:\n",
    "            if \"leaf\" in trie_node:\n",
    "                return i, trie_node[\"leaf\"]\n",
    "            else:\n",
    "                return -1, set()                                 # -1表示未找到\n",
    "    # 收尾\n",
    "    if \"leaf\" in trie_node:\n",
    "        return len(sent), trie_node[\"leaf\"]\n",
    "    else:\n",
    "        return -1, set()                                 # -1表示未找到"
   ]
  },
  {
   "cell_type": "code",
   "execution_count": 10,
   "metadata": {
    "collapsed": true
   },
   "outputs": [],
   "source": [
    "build_trie(\"刘\",\"666\",trie_root)\n",
    "build_trie(\"刘胜\",\"刘胜\",trie_root)"
   ]
  },
  {
   "cell_type": "code",
   "execution_count": 11,
   "metadata": {},
   "outputs": [
    {
     "name": "stdout",
     "output_type": "stream",
     "text": [
      "(-1, set())\n",
      "(6, {'刘胜'})\n",
      "(5, {'666'})\n"
     ]
    }
   ],
   "source": [
    "print(dig_trie(\"中山靖王刘胜之后，汉景帝阁下玄孙\",0,trie_root))\n",
    "print(dig_trie(\"中山靖王刘胜之后，汉景帝阁下玄孙\",4,trie_root))          # 不会被单独的刘干扰，除非确实不匹配\n",
    "print(dig_trie(\"中山靖王刘某之后，汉景帝阁下玄孙\",4,trie_root))"
   ]
  },
  {
   "cell_type": "code",
   "execution_count": 13,
   "metadata": {},
   "outputs": [
    {
     "name": "stdout",
     "output_type": "stream",
     "text": [
      "[([0, 2], '刘备'), ([3, 5], '刘备'), ([8, 11], '刘备'), ([13, 14], '666')]\n"
     ]
    }
   ],
   "source": [
    "def entity_linking(sent,trie_root):\n",
    "    ret = []\n",
    "    l = 0\n",
    "    while l < len(sent):\n",
    "        r, entities = dig_trie(sent,l,trie_root)\n",
    "        if r != -1:\n",
    "            name0 = sent[l:r]\n",
    "            ret.append(([l,r],list(entities)[0])) #简单起见，在这里如果同一个名称对应多个实体，默认选取第一个，完整版中用了更多消歧方法\n",
    "            l = r\n",
    "        else:\n",
    "            l += 1\n",
    "    return ret\n",
    "sent = \"刘备字玄德，号称刘皇叔，是刘氏又一豪杰\"\n",
    "print(entity_linking(sent,trie_root))"
   ]
  },
  {
   "cell_type": "markdown",
   "metadata": {},
   "source": [
    "如果只是要统计实体的出现次数的话，到这里已经足够，如果再想利用这些知识进行分词的话，还有几步要做。\n",
    "\n",
    "首先，利用我们所有的姓名知识库构建一颗完整的字典树。"
   ]
  },
  {
   "cell_type": "code",
   "execution_count": 14,
   "metadata": {
    "collapsed": true
   },
   "outputs": [],
   "source": [
    "names_trie = {}\n",
    "for entity0, line in name_data.iterrows():\n",
    "    for name0 in [line[\"姓\"]+line[\"名\"],line[\"字\"]]:               \n",
    "        if not name0 in [\"无\",\"None\",\"\"] and len(name0) > 1:            \n",
    "            build_trie(name0,entity0,names_trie)\n",
    "    name0  = line[\"姓\"]+line[\"名\"]\n",
    "    if not name0 in [\"无\",\"None\",\"\"] and len(name0) > 1:            # 长度1的名字太容易混淆，不采纳\n",
    "        build_trie(name0,entity0,names_trie)"
   ]
  },
  {
   "cell_type": "code",
   "execution_count": 15,
   "metadata": {},
   "outputs": [
    {
     "data": {
      "text/plain": [
       "{'上': {'leaf': {'司马昭', '纪陟'}},\n",
       " '业': {'leaf': {'卫继'}},\n",
       " '丹': {'leaf': {'曹真'}},\n",
       " '举': {'leaf': {'荀恺'}},\n",
       " '义': {'leaf': {'太史慈'}},\n",
       " '乔': {'leaf': {'孙松', '张松[刘璋]'}},\n",
       " '云': {'leaf': {'卢浮', '张津', '杨雄'}},\n",
       " '产': {'leaf': {'张特'}},\n",
       " '京': {'leaf': {'魏讽'}},\n",
       " '仁': {'leaf': {'刘惇', '毌丘宗'}},\n",
       " '仲': {'leaf': {'吴康', '虞放', '麋竺'}},\n",
       " '休': {'leaf': {'暨艳'}},\n",
       " '伯': {'leaf': {'娄圭'}},\n",
       " '佩': {'leaf': {'韩珩'}},\n",
       " '修': {'leaf': {'上官雝', '曹昂'}},\n",
       " '元': {'leaf': {'司马师', '濮阳兴'}},\n",
       " '全': {'leaf': {'王双[讨蜀]'}},\n",
       " '公': {'leaf': {'吴霸'}},\n",
       " '冥': {'leaf': {'子冥'}},\n",
       " '初': {'leaf': {'刘巴[蜀]', '司马望'}},\n",
       " '华': {'leaf': {'司马芝'}},\n",
       " '卿': {'leaf': {'严武'}},\n",
       " '叔': {'leaf': {'邯郸淳'}},\n",
       " '台': {'leaf': {'刘勋[魏]', '张阁'}},\n",
       " '叹': {'leaf': {'顾徽'}},\n",
       " '和': {'leaf': {'徵崇', '曹纯'}},\n",
       " '均': {'leaf': {'王平'}},\n",
       " '坚': {'leaf': {'李固[东汉大臣]'}},\n",
       " '太': {'leaf': {'郝普'}},\n",
       " '奇': {'leaf': {'刘陶[东汉]'}},\n",
       " '威': {'leaf': {'孙霸'}},\n",
       " '婴': {'leaf': {'子婴'}},\n",
       " '孝': {'leaf': {'孙和', '曹仁'}},\n",
       " '孟': {'leaf': {'霍光'}},\n",
       " '安': {'leaf': {'曹峻'}},\n",
       " '宪': {'leaf': {'李孚'}},\n",
       " '家': {'leaf': {'卢毓'}},\n",
       " '将': {'leaf': {'司马伷', '许劭'}},\n",
       " '尼': {'leaf': {'国渊'}},\n",
       " '展': {'leaf': {'吕昭'}},\n",
       " '山': {'leaf': {'步骘'}},\n",
       " '布': {'leaf': {'张昭[吴]'}},\n",
       " '师': {'leaf': {'王允'}},\n",
       " '干': {'leaf': {'卢植', '钟离牧'}},\n",
       " '并': {'leaf': {'张超[东汉]'}},\n",
       " '庄': {'leaf': {'傅祗'}},\n",
       " '度': {'leaf': {'堂溪典', '孟达[蜀]'}},\n",
       " '廉': {'leaf': {'曹洪'}},\n",
       " '建': {'leaf': {'曹植'}},\n",
       " '异': {'leaf': {'庞淯'}},\n",
       " '弃': {'leaf': {'刘放'}},\n",
       " '张': {'leaf': {'马武'}},\n",
       " '彝': {'leaf': {'司马伦'}},\n",
       " '思': {'leaf': {'司马顺'}},\n",
       " '恪': {'leaf': {'吕虔'}},\n",
       " '慎': {'leaf': {'服虔'}},\n",
       " '房': {'leaf': {'张良'}},\n",
       " '扬': {'leaf': {'刘晔', '孙奋'}},\n",
       " '敕': {'leaf': {'秦宓'}},\n",
       " '敬': {'leaf': {'鲁肃'}},\n",
       " '文': {'leaf': {'曹彰', '王儁'}},\n",
       " '方': {'leaf': {'麋芳'}},\n",
       " '旗': {'leaf': {'卫旌'}},\n",
       " '旟': {'leaf': {'任旐'}},\n",
       " '昂': {'leaf': {'邢颙'}},\n",
       " '明': {'leaf': {'吕蒙', '孙亮', '张臶', '徐详'}},\n",
       " '春': {'leaf': {'王遵'}},\n",
       " '昭': {'leaf': {'杨颙'}},\n",
       " '智': {'leaf': {'孙虑[孙权子]'}},\n",
       " '期': {'leaf': {'向秀'}},\n",
       " '林': {'leaf': {'夏侯楙'}},\n",
       " '柔': {'leaf': {'冯熙', '蒯良', '赵温'}},\n",
       " '桓': {'leaf': {'曹丕'}},\n",
       " '正': {'leaf': {'唐固', '应余', '沈友', '陈端'}},\n",
       " '江': {'leaf': {'夏侯子江'}},\n",
       " '泉': {'leaf': {'司马瑰'}},\n",
       " '泰': {'leaf': {'田畴', '许奇'}},\n",
       " '渊': {'leaf': {'颜回'}},\n",
       " '源': {'leaf': {'臧洪'}},\n",
       " '烈': {'leaf': {'孙休', '陈武'}},\n",
       " '牙': {'leaf': {'吕尚', '隗禧'}},\n",
       " '玉': {'leaf': {'崔瑷', '成得臣'}},\n",
       " '琰': {'leaf': {'黄琬'}},\n",
       " '瑜': {'leaf': {'诸葛瑾', '郑球'}},\n",
       " '璋': {'leaf': {'陆瑁'}},\n",
       " '璜': {'leaf': {'全琮'}},\n",
       " '由': {'leaf': {'王子服'}},\n",
       " '直': {'leaf': {'顾承'}},\n",
       " '相': {'leaf': {'刘翊'}},\n",
       " '真': {'leaf': {'全尚', '刘寔', '崔寔', '郑小同'}},\n",
       " '硕': {'leaf': {'马平[东汉]', '马肃'}},\n",
       " '禽': {'leaf': {'文种'}},\n",
       " '笏': {'leaf': {'卢珽'}},\n",
       " '纲': {'leaf': {'张纮'}},\n",
       " '经': {'leaf': {'牵招'}},\n",
       " '绪': {'leaf': {'姚伷', '杜袭'}},\n",
       " '美': {'leaf': {'杜甫'}},\n",
       " '羽': {'leaf': {'是仪'}},\n",
       " '翼': {'leaf': {'司马亮', '寇恂', '蒋干'}},\n",
       " '胥': {'leaf': {'伍子胥'}},\n",
       " '臧': {'leaf': {'司马骏', '夏侯子臧'}},\n",
       " '舆': {'leaf': {'孟子'}},\n",
       " '良': {'leaf': {'司马干'}},\n",
       " '节': {'leaf': {'张俨'}},\n",
       " '若': {'leaf': {'卢钦'}},\n",
       " '范': {'leaf': {'朱据'}},\n",
       " '荆': {'leaf': {'孙楚'}},\n",
       " '虞': {'leaf': {'梁习'}},\n",
       " '衡': {'leaf': {'吕范'}},\n",
       " '议': {'leaf': {'张咨'}},\n",
       " '许': {'leaf': {'卫兹'}},\n",
       " '谅': {'leaf': {'卢谌'}},\n",
       " '豹': {'leaf': {'许猛'}},\n",
       " '贱': {'leaf': {'丁固'}},\n",
       " '远': {'leaf': {'吴懿', '孙峻', '嵇昭', '许攸[袁绍]'}},\n",
       " '通': {'leaf': {'孙綝', '蒋济', '顾悌'}},\n",
       " '道': {'leaf': {'卢志'}},\n",
       " '邦': {'leaf': {'毌丘甸'}},\n",
       " '郎': {'leaf': {'李休'}},\n",
       " '野': {'leaf': {'师旷'}},\n",
       " '阳': {'leaf': {'公孙述'}},\n",
       " '阿': {'leaf': {'钟离意'}},\n",
       " '隐': {'leaf': {'周处'}},\n",
       " '雍': {'leaf': {'王肃'}},\n",
       " '颜': {'leaf': {'吴汉'}},\n",
       " '高': {'leaf': {'刘弘[东汉]', '孙登[吴]'}},\n",
       " '鱼': {'leaf': {'华歆', '周鲂'}},\n",
       " '默': {'leaf': {'顾谭'}},\n",
       " '龙': {'leaf': {'赵云'}}}"
      ]
     },
     "execution_count": 15,
     "metadata": {},
     "output_type": "execute_result"
    }
   ],
   "source": [
    "names_trie[\"子\"]"
   ]
  },
  {
   "cell_type": "markdown",
   "metadata": {},
   "source": [
    "关键的一个小操作，指定一个标准词与所有实体联系起来，保证分词工具能够把它分割出来，并且赋予恰当的词性(\"nr\"：人名)。"
   ]
  },
  {
   "cell_type": "code",
   "execution_count": 16,
   "metadata": {},
   "outputs": [
    {
     "name": "stderr",
     "output_type": "stream",
     "text": [
      "Building prefix dict from the default dictionary ...\n",
      "Loading model from cache C:\\Users\\KELEN\\AppData\\Local\\Temp\\jieba.cache\n",
      "Loading model cost 0.927 seconds.\n",
      "Prefix dict has been built succesfully.\n"
     ]
    }
   ],
   "source": [
    "jieba.add_word(\"人占位符\",freq=10000,tag=\"nr\")"
   ]
  },
  {
   "cell_type": "code",
   "execution_count": 17,
   "metadata": {
    "collapsed": true
   },
   "outputs": [],
   "source": [
    "def decoref(sent,entities_info):\n",
    "    left = 0\n",
    "    processed_text = \"\"\n",
    "    for (beg,end),entity in entities_info:\n",
    "        print(sent[beg:end],entity)\n",
    "        processed_text += sent[left:beg] + \"人占位符\"\n",
    "        left = end\n",
    "    processed_text += sent[left:]\n",
    "    return processed_text"
   ]
  },
  {
   "cell_type": "code",
   "execution_count": 18,
   "metadata": {},
   "outputs": [
    {
     "name": "stdout",
     "output_type": "stream",
     "text": [
      "玄德 刘备\n",
      "人占位符幼孤，事母至孝；家贫，贩屦织席为业。\n"
     ]
    }
   ],
   "source": [
    "sent = \"玄德幼孤，事母至孝；家贫，贩屦织席为业。\"\n",
    "entities_info = [([0, 2], '刘备')]\n",
    "print(decoref(sent,entities_info))"
   ]
  },
  {
   "cell_type": "markdown",
   "metadata": {},
   "source": [
    "看到这里我们的标准词\"人占位符\"已经替代了识别到的实体的位置，分词时，我们则会把它再换回来，并且提取出了我们设定的词性。"
   ]
  },
  {
   "cell_type": "code",
   "execution_count": 19,
   "metadata": {
    "collapsed": true
   },
   "outputs": [],
   "source": [
    "def posseg(sent,trie_root):\n",
    "    entities_info = entity_linking(sent,trie_root)\n",
    "    sent2 = decoref(sent,entities_info)\n",
    "    result = []\n",
    "    i = 0\n",
    "    for word, flag in pseg.cut(sent2):\n",
    "        if word == \"人占位符\":\n",
    "            word = entities_info[i][1]\n",
    "            i += 1\n",
    "        result.append((word, flag))\n",
    "    return result"
   ]
  },
  {
   "cell_type": "code",
   "execution_count": 20,
   "metadata": {},
   "outputs": [
    {
     "name": "stdout",
     "output_type": "stream",
     "text": [
      "玄德 刘备\n",
      "[('刘备', 'nr'), ('幼', 'ag'), ('孤', 'ng'), ('，', 'x'), ('事母至孝', 'l'), ('；', 'x'), ('家贫', 'b'), ('，', 'x'), ('贩', 'v'), ('屦', 'g'), ('织', 'v'), ('席为业', 'nr'), ('。', 'x')]\n"
     ]
    }
   ],
   "source": [
    "print(posseg(\"玄德幼孤，事母至孝；家贫，贩屦织席为业。\",names_trie))"
   ]
  },
  {
   "cell_type": "markdown",
   "metadata": {
    "collapsed": true
   },
   "source": [
    "这次第一个“刘备”君被成功地识别了出来。不过还有一个有趣的插曲是，分词工具“识别”出了另一个人名“席为业”。这个问题也可以用我们的知识库解决，毕竟统计的时候只需要统计我们知识库中已经出现的人名就好了吗。"
   ]
  },
  {
   "cell_type": "markdown",
   "metadata": {
    "collapsed": true
   },
   "source": [
    "最后附上一些我基于这个数据做的一些简单分析。\n",
    "\n",
    "将出现在两句话以内的每一对人物添加一条边，统计了整个三国演义的文本后，我们就能够得到一个三国演义的人物网络。"
   ]
  }
 ],
 "metadata": {
  "kernelspec": {
   "display_name": "Python [conda env:py36]",
   "language": "python",
   "name": "conda-env-py36-py"
  },
  "language_info": {
   "codemirror_mode": {
    "name": "ipython",
    "version": 3
   },
   "file_extension": ".py",
   "mimetype": "text/x-python",
   "name": "python",
   "nbconvert_exporter": "python",
   "pygments_lexer": "ipython3",
   "version": "3.6.6"
  }
 },
 "nbformat": 4,
 "nbformat_minor": 2
}
